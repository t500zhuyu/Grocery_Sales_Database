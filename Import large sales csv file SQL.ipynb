{
 "cells": [
  {
   "cell_type": "code",
   "execution_count": 1,
   "id": "42bd7b8c-dd92-4b98-a941-c960cfc15c84",
   "metadata": {},
   "outputs": [],
   "source": [
    "# import libraries needed\n",
    "import warnings\n",
    "import pandas as pd\n",
    "from sqlalchemy import create_engine"
   ]
  },
  {
   "cell_type": "code",
   "execution_count": 5,
   "id": "d0ee59d9-9821-455a-a26a-9cad1204b1f4",
   "metadata": {},
   "outputs": [
    {
     "name": "stdout",
     "output_type": "stream",
     "text": [
      "Collecting pymysql\n",
      "  Downloading PyMySQL-1.1.1-py3-none-any.whl.metadata (4.4 kB)\n",
      "Downloading PyMySQL-1.1.1-py3-none-any.whl (44 kB)\n",
      "   ---------------------------------------- 0.0/45.0 kB ? eta -:--:--\n",
      "   ---------------------------------------- 0.0/45.0 kB ? eta -:--:--\n",
      "   --------- ------------------------------ 10.2/45.0 kB ? eta -:--:--\n",
      "   ------------------ --------------------- 20.5/45.0 kB 320.0 kB/s eta 0:00:01\n",
      "   ------------------------------------ --- 41.0/45.0 kB 326.8 kB/s eta 0:00:01\n",
      "   ---------------------------------------- 45.0/45.0 kB 277.9 kB/s eta 0:00:00\n",
      "Installing collected packages: pymysql\n",
      "Successfully installed pymysql-1.1.1\n"
     ]
    }
   ],
   "source": [
    "!pip install pymysql"
   ]
  },
  {
   "cell_type": "code",
   "execution_count": 2,
   "id": "28b33b30-84d1-4b59-8174-38c4d5e4592b",
   "metadata": {},
   "outputs": [],
   "source": [
    "# Suppress warnings\n",
    "warnings.filterwarnings('ignore')"
   ]
  },
  {
   "cell_type": "code",
   "execution_count": 2,
   "id": "bb50d389-d10b-46a7-a3cb-7860467f268a",
   "metadata": {},
   "outputs": [],
   "source": [
    "# MySQL connection configuration\n",
    "config = {\n",
    "    'user': 'root',\n",
    "    'password': 'elJaibo79%',\n",
    "    'host': 'localhost',  # o '127.0.0.1'\n",
    "    'port': 3306,\n",
    "    'database': 'grocery_sales',\n",
    "}"
   ]
  },
  {
   "cell_type": "code",
   "execution_count": 3,
   "id": "f132e7ce-6fb3-4b39-aaab-38ff9a1b6d22",
   "metadata": {},
   "outputs": [],
   "source": [
    "from sqlalchemy import create_engine\n",
    "\n",
    "engine = create_engine(\n",
    "    f\"mysql+pymysql://{config['user']}:{config['password']}@{config['host']}:{config['port']}/{config['database']}\"\n",
    ")"
   ]
  },
  {
   "cell_type": "code",
   "execution_count": 4,
   "id": "2f199331-57e9-4df8-b52d-8b3a69dc8f5c",
   "metadata": {},
   "outputs": [
    {
     "name": "stdout",
     "output_type": "stream",
     "text": [
      "✅ Data successfully written to MySQL table 'sales'.\n"
     ]
    }
   ],
   "source": [
    "try:\n",
    "    # Read CSV file\n",
    "    file_path = r\"D:\\One Drive\\OneDrive\\data analysis\\SQL y bases de datos\\Grocery Sales Database Kaggle\\archive\\sales1_updated.csv\"\n",
    "    data = pd.read_csv(file_path)\n",
    "\n",
    "    # Write DataFrame to MySQL table\n",
    "    data.to_sql('sales_updated', con=engine, index=False, if_exists='replace')\n",
    "\n",
    "    print(\"✅ Data successfully written to MySQL table 'sales'.\")\n",
    "\n",
    "except FileNotFoundError:\n",
    "    print(f\"❌ Error: The file '{file_path}' was not found. Check the path.\")"
   ]
  },
  {
   "cell_type": "code",
   "execution_count": null,
   "id": "c6545323-4bf5-4ceb-870f-691da2a73fb1",
   "metadata": {},
   "outputs": [],
   "source": []
  },
  {
   "cell_type": "code",
   "execution_count": null,
   "id": "bb6e8aaa-488d-466d-b67d-6bf6eff8aded",
   "metadata": {},
   "outputs": [],
   "source": []
  },
  {
   "cell_type": "code",
   "execution_count": null,
   "id": "7c107642-9e04-44cb-b8fb-bf7f20dc8bc2",
   "metadata": {},
   "outputs": [],
   "source": []
  },
  {
   "cell_type": "code",
   "execution_count": null,
   "id": "9597cc1a-098c-490c-92cc-643d9f122939",
   "metadata": {},
   "outputs": [],
   "source": []
  },
  {
   "cell_type": "code",
   "execution_count": null,
   "id": "d7f0db57-94a8-4d1c-893a-92a0f2505c7a",
   "metadata": {},
   "outputs": [],
   "source": []
  },
  {
   "cell_type": "code",
   "execution_count": null,
   "id": "1b6ab2ba-09c7-4bd8-b6c8-83a898dffca6",
   "metadata": {},
   "outputs": [],
   "source": []
  }
 ],
 "metadata": {
  "kernelspec": {
   "display_name": "Python 3 (ipykernel)",
   "language": "python",
   "name": "python3"
  },
  "language_info": {
   "codemirror_mode": {
    "name": "ipython",
    "version": 3
   },
   "file_extension": ".py",
   "mimetype": "text/x-python",
   "name": "python",
   "nbconvert_exporter": "python",
   "pygments_lexer": "ipython3",
   "version": "3.11.7"
  }
 },
 "nbformat": 4,
 "nbformat_minor": 5
}
